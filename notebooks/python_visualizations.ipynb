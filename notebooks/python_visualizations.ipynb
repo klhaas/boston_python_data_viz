{
 "cells": [
  {
   "cell_type": "markdown",
   "metadata": {},
   "source": [
    "<!--TABLE OF CONTENTS-->\n",
    "Contents:\n",
    "- [1. Scatterplots](#1.-Scatterplots)\n",
    "  - [Matplotlib scatter plots](#Matplotlib-scatter-plots)\n",
    "  - [Seaborn scatter plots](#Seaborn-scatter-plots)\n",
    "  - [Bokeh scatter plots](#Bokeh-scatter-plots)\n",
    "  - [Altair scatter plots](#Altair-scatter-plots)\n",
    "- [2. Bubble plots](#2.-Bubble-plots)\n",
    "  - [Matplotlib bubble plots](#Matplotlib-bubble-plots)\n",
    "  - [Seaborn bubble plots](#Seaborn-bubble-plots)\n",
    "  - [Bokeh bubble plots](#Bokeh-bubble-plots)\n",
    "  - [Altair bubble plots](#Altair-bubble-plots)\n",
    "  - [Extra Altair coolness - more advanced stuff](#Extra-Altair-coolness---more-advanced-stuff)\n",
    "- [3. Line graphs](#3.-Line-graphs)\n",
    "  - [Matplotlib line graphs](#Matplotlib-line-graphs)\n",
    "  - [Seaborn line graphs](#Seaborn-line-graphs)\n",
    "  - [Bokeh line graphs](#Bokeh-line-graphs)\n",
    "  - [Altair line graphs](#Altair-line-graphs)\n",
    "  - [Extra Bokeh coolness - more advanced stuff](#Extra-Bokeh-coolness---more-advanced-stuff)\n",
    "- [4. Bar charts](#4.-Bar-charts)\n",
    "  - [Matplotlib bar charts](#Matplotlib-bar-charts)\n",
    "  - [Seaborn bar charts](#Seaborn-bar-charts)\n",
    "  - [Bokeh bar charts](#Bokeh-bar-charts)\n",
    "  - [Altair bar charts](#Altair-bar-charts)\n",
    "- [5. Histograms](#5.-Histograms)\n",
    "  - [Matplotlib histograms](#Matplotlib-histograms)\n",
    "  - [Seaborn histograms](#Seaborn-histograms)\n",
    "  - [Bokeh histograms](#Bokeh-histograms)\n",
    "  - [Altair histograms](#Altair-histograms)\n",
    "- [6. Box plots](#6.-Box-plots)\n",
    "  - [Seaborn boxplots](#Seaborn-boxplots)\n",
    "  - [Altair boxplots](#Altair-boxplots)\n",
    "- [7. Heatmaps](#7.-Heatmaps)\n",
    "  - [Seaborn heatmaps](#Seaborn-heatmaps)\n",
    "  - [Bokeh heatmaps](#Bokeh-heatmaps)\n",
    "  - [Altair heatmaps](#Altair-heatmaps)\n",
    "- [8. Maps with Altair](#8.-Maps-with-Altair)"
   ]
  },
  {
   "cell_type": "code",
   "execution_count": null,
   "metadata": {},
   "outputs": [],
   "source": [
    "import matplotlib.pyplot as plt\n",
    "import seaborn as sns\n",
    "from bokeh.plotting import figure, show\n",
    "from bokeh.io import output_notebook\n",
    "from bokeh.transform import factor_cmap, factor_mark\n",
    "import altair as alt\n",
    "from vega_datasets import data\n",
    "\n",
    "import pandas as pd\n",
    "import numpy as np\n",
    "import geopandas"
   ]
  },
  {
   "cell_type": "code",
   "execution_count": null,
   "metadata": {},
   "outputs": [],
   "source": [
    "output_notebook()"
   ]
  },
  {
   "cell_type": "markdown",
   "metadata": {},
   "source": [
    "# 1. Scatterplots"
   ]
  },
  {
   "cell_type": "code",
   "execution_count": null,
   "metadata": {},
   "outputs": [],
   "source": [
    "# Load dataset\n",
    "penguins = sns.load_dataset('penguins')"
   ]
  },
  {
   "cell_type": "markdown",
   "metadata": {},
   "source": [
    "## Matplotlib scatter plots"
   ]
  },
  {
   "cell_type": "code",
   "execution_count": null,
   "metadata": {},
   "outputs": [],
   "source": [
    "# Matplotlib simple example\n",
    "plt.scatter(penguins['flipper_length_mm'], penguins['body_mass_g'])\n",
    "plt.show()"
   ]
  },
  {
   "cell_type": "code",
   "execution_count": null,
   "metadata": {},
   "outputs": [],
   "source": [
    "# Matplotlib - Adding labels\n",
    "plt.scatter(penguins['flipper_length_mm'], penguins['body_mass_g'])\n",
    "plt.xlabel('flipper_length_mm')\n",
    "plt.ylabel('body_mass_g')\n",
    "plt.title('body_mass_g vs. flipper_length_mm')\n",
    "plt.show()"
   ]
  },
  {
   "cell_type": "markdown",
   "metadata": {},
   "source": [
    "## Seaborn scatter plots"
   ]
  },
  {
   "cell_type": "code",
   "execution_count": null,
   "metadata": {
    "scrolled": true
   },
   "outputs": [],
   "source": [
    "# Seaborn simple example\n",
    "sns.scatterplot(x=penguins['flipper_length_mm'], y=penguins['body_mass_g'])"
   ]
  },
  {
   "cell_type": "code",
   "execution_count": null,
   "metadata": {},
   "outputs": [],
   "source": [
    "# Seaborn - Adding title\n",
    "sns.scatterplot(x=penguins['flipper_length_mm'], y=penguins['body_mass_g']).set_title('body_mass_g vs. flipper_length_mm')"
   ]
  },
  {
   "cell_type": "markdown",
   "metadata": {},
   "source": [
    "## Bokeh scatter plots"
   ]
  },
  {
   "cell_type": "code",
   "execution_count": null,
   "metadata": {},
   "outputs": [],
   "source": [
    "# Bokeh simple example\n",
    "p = figure(plot_width=400, plot_height=300)\n",
    "\n",
    "#p.scatter(penguins['flipper_length_mm'], penguins['body_mass_g']) # Alternate way to plot scatterplot\n",
    "p.scatter(x='flipper_length_mm', y='body_mass_g', source=penguins)\n",
    "show(p)"
   ]
  },
  {
   "cell_type": "code",
   "execution_count": null,
   "metadata": {},
   "outputs": [],
   "source": [
    "# Bokeh - adding labels\n",
    "p = figure(plot_width=400, plot_height=300)\n",
    "\n",
    "p.scatter(x='flipper_length_mm', y='body_mass_g', source=penguins)\n",
    "p.title.text = 'body_mass_g vs. flipper_length_mm'\n",
    "p.xaxis.axis_label = 'flipper_length_mm'\n",
    "p.yaxis.axis_label = 'body_mass_g'\n",
    "show(p)"
   ]
  },
  {
   "cell_type": "markdown",
   "metadata": {},
   "source": [
    "## Altair scatter plots"
   ]
  },
  {
   "cell_type": "code",
   "execution_count": null,
   "metadata": {},
   "outputs": [],
   "source": [
    "# Altair simple example\n",
    "alt.Chart(penguins).mark_point().encode(    \n",
    "    alt.X('flipper_length_mm'), \n",
    "    alt.Y('body_mass_g') \n",
    ")"
   ]
  },
  {
   "cell_type": "code",
   "execution_count": null,
   "metadata": {},
   "outputs": [],
   "source": [
    "# Altair - fixing axis limits, adding title, changing figure size, filling in circles, allowing user to pan/zoom\n",
    "alt.Chart(penguins, title='body_mass_g vs. flipper_length_mm').mark_point(filled=True).encode(\n",
    "    alt.X('flipper_length_mm', scale=alt.Scale(zero=False)),\n",
    "    alt.Y('body_mass_g', scale=alt.Scale(zero=False))\n",
    ").properties(\n",
    "    width=300,\n",
    "    height=200\n",
    ").interactive()"
   ]
  },
  {
   "cell_type": "code",
   "execution_count": null,
   "metadata": {},
   "outputs": [],
   "source": []
  },
  {
   "cell_type": "markdown",
   "metadata": {},
   "source": [
    "# 2. Bubble plots"
   ]
  },
  {
   "cell_type": "code",
   "execution_count": null,
   "metadata": {},
   "outputs": [],
   "source": [
    "penguins['marker_size'] = (penguins['bill_length_mm']-penguins['bill_length_mm'].min()+1)"
   ]
  },
  {
   "cell_type": "markdown",
   "metadata": {},
   "source": [
    "## Matplotlib bubble plots"
   ]
  },
  {
   "cell_type": "code",
   "execution_count": null,
   "metadata": {},
   "outputs": [],
   "source": [
    "# Matplotlib bubble plot example\n",
    "plt.scatter(penguins['flipper_length_mm'], penguins['body_mass_g'], \n",
    "            s=penguins['marker_size']*5,\n",
    "            alpha=0.25)\n",
    "plt.xlabel('flipper_length_mm')\n",
    "plt.ylabel('body_mass_g')\n",
    "plt.show()"
   ]
  },
  {
   "cell_type": "markdown",
   "metadata": {},
   "source": [
    "## Seaborn bubble plots"
   ]
  },
  {
   "cell_type": "code",
   "execution_count": null,
   "metadata": {},
   "outputs": [],
   "source": [
    "# Seaborn simple example bubble plot\n",
    "sns.scatterplot(x=penguins['flipper_length_mm'], y=penguins['body_mass_g'],\n",
    "                alpha=0.5,\n",
    "                size=penguins['marker_size']*10) # WATCH OUT! Look at the legend.\n"
   ]
  },
  {
   "cell_type": "code",
   "execution_count": null,
   "metadata": {},
   "outputs": [],
   "source": [
    "# Seaborn - Add color-coding\n",
    "sns.scatterplot(x=penguins['flipper_length_mm'], y=penguins['body_mass_g'],\n",
    "                alpha=0.5,\n",
    "                size=penguins['marker_size']*10, # WATCH OUT! Look at the legend.\n",
    "                hue=penguins['species'])\n",
    "#                hue=penguins['sex'])\n",
    "#                hue=penguins['island'])\n",
    "               \n",
    "plt.legend(bbox_to_anchor=(1.05, 1), loc=2, borderaxespad=0.)\n"
   ]
  },
  {
   "cell_type": "markdown",
   "metadata": {},
   "source": [
    "## Bokeh bubble plots"
   ]
  },
  {
   "cell_type": "code",
   "execution_count": null,
   "metadata": {},
   "outputs": [],
   "source": [
    "# Bokeh simple example\n",
    "\n",
    "# Create a column to control marker size in the plot\n",
    "penguins['marker_size'] = (penguins['bill_length_mm']-penguins['bill_length_mm'].min()+1)\n",
    "\n",
    "p = figure(plot_width=400, plot_height=300)\n",
    "p.scatter(x='flipper_length_mm', y='body_mass_g', source=penguins,\n",
    "          size='marker_size', fill_alpha=0.25)\n",
    "\n",
    "p.title.text = 'body_mass_g vs. flipper_length_mm'\n",
    "p.xaxis.axis_label = 'flipper_length_mm'\n",
    "p.yaxis.axis_label = 'body_mass_g'\n",
    "show(p)"
   ]
  },
  {
   "cell_type": "code",
   "execution_count": null,
   "metadata": {},
   "outputs": [],
   "source": [
    "# Prepare for more advanced features in plot\n",
    "SPECIES = ['Adelie', 'Chinstrap', 'Gentoo']\n",
    "\n",
    "TOOLTIPS = [\n",
    "    (\"flipper_length_mm\", \"@flipper_length_mm\"),\n",
    "    (\"body_mass_g\", \"@body_mass_g\"),\n",
    "    (\"bill_length_mm\", \"@bill_length_mm\"),\n",
    "]\n"
   ]
  },
  {
   "cell_type": "code",
   "execution_count": null,
   "metadata": {},
   "outputs": [],
   "source": [
    "# Bokeh - Add color-coding by species, add interactive tooltips\n",
    "p = figure(plot_width=400, plot_height=300, tooltips=TOOLTIPS)\n",
    "p.scatter(x='flipper_length_mm', y='body_mass_g', source=penguins,\n",
    "          size='marker_size', fill_alpha=0.25,\n",
    "          color=factor_cmap('species', 'Category10_3', SPECIES))\n",
    "\n",
    "p.title.text = 'body_mass_g vs. flipper_length_mm'\n",
    "p.xaxis.axis_label = 'flipper_length_mm'\n",
    "p.yaxis.axis_label = 'body_mass_g'\n",
    "show(p)"
   ]
  },
  {
   "cell_type": "markdown",
   "metadata": {},
   "source": [
    "## Altair bubble plots"
   ]
  },
  {
   "cell_type": "code",
   "execution_count": null,
   "metadata": {},
   "outputs": [],
   "source": [
    "# Altair simple example\n",
    "alt.Chart(penguins, title='body_mass_g vs. flipper_length_mm').mark_point(filled=True).encode(  \n",
    "    alt.X('flipper_length_mm', scale=alt.Scale(zero=False)),\n",
    "    alt.Y('body_mass_g', scale=alt.Scale(zero=False)),\n",
    "    alt.OpacityValue(0.5),\n",
    "    alt.Size('marker_size')\n",
    ").properties(\n",
    "    width=300,\n",
    "    height=200\n",
    ")"
   ]
  },
  {
   "cell_type": "code",
   "execution_count": null,
   "metadata": {},
   "outputs": [],
   "source": [
    "# Altair - color-code, add tooltips, make interactive\n",
    "alt.Chart(penguins, title='body_mass_g vs. flipper_length_mm').mark_point(filled=True).encode(  \n",
    "    alt.X('flipper_length_mm', scale=alt.Scale(zero=False)),\n",
    "    alt.Y('body_mass_g', scale=alt.Scale(zero=False)),\n",
    "    alt.OpacityValue(0.5),\n",
    "    alt.Size('marker_size'),\n",
    "    alt.Color('species'),\n",
    "    tooltip = [alt.Tooltip('flipper_length_mm'),\n",
    "               alt.Tooltip('body_mass_g'),\n",
    "               alt.Tooltip('bill_length_mm'),\n",
    "               alt.Tooltip('species')\n",
    "              ]\n",
    ").properties(\n",
    "    width=300,\n",
    "    height=200\n",
    ").interactive()"
   ]
  },
  {
   "cell_type": "markdown",
   "metadata": {},
   "source": [
    "## Extra Altair coolness - more advanced stuff"
   ]
  },
  {
   "cell_type": "code",
   "execution_count": null,
   "metadata": {},
   "outputs": [],
   "source": [
    "# Linked brushing example #1\n",
    "\n",
    "interval = alt.selection_interval()\n",
    "\n",
    "chart1 = alt.Chart(penguins).mark_point().encode(    \n",
    "    alt.X('flipper_length_mm', scale=alt.Scale(zero=False)), \n",
    "    alt.Y('body_mass_g', scale=alt.Scale(zero=False)),\n",
    "    color=alt.condition(interval, 'species', alt.value('lightgray'))\n",
    ").properties(\n",
    "    selection=interval\n",
    ")\n",
    "    \n",
    "chart2 = alt.Chart(penguins).mark_point().encode(    \n",
    "    alt.X('bill_length_mm', scale=alt.Scale(zero=False)), \n",
    "    alt.Y('body_mass_g', scale=alt.Scale(zero=False)),\n",
    "    color='sex'\n",
    ").transform_filter(\n",
    "    interval\n",
    ")\n",
    "\n",
    "chart1 | chart2\n"
   ]
  },
  {
   "cell_type": "code",
   "execution_count": null,
   "metadata": {},
   "outputs": [],
   "source": [
    "# Linked brushing example #2\n",
    "\n",
    "interval = alt.selection_interval()\n",
    "\n",
    "chart1 = alt.Chart(penguins).mark_point().encode(    \n",
    "    alt.X('flipper_length_mm', scale=alt.Scale(zero=False)), \n",
    "    alt.Y('body_mass_g', scale=alt.Scale(zero=False)),\n",
    "    color=alt.condition(interval, 'species', alt.value('lightgray'))\n",
    ").properties(\n",
    "    selection=interval\n",
    ")\n",
    "    \n",
    "chart2 = alt.Chart(penguins).mark_point().encode(    \n",
    "    alt.X('bill_length_mm', scale=alt.Scale(zero=False)), \n",
    "    alt.Y('body_mass_g', scale=alt.Scale(zero=False)),\n",
    "    color=alt.condition(interval, 'species', alt.value('lightgray'))\n",
    ").properties(\n",
    "    selection=interval\n",
    ")\n",
    "\n",
    "chart1 | chart2\n",
    "#chart1 | chart1.encode(alt.X('bill_length_mm'))"
   ]
  },
  {
   "cell_type": "markdown",
   "metadata": {},
   "source": [
    "### Check out https://altair-viz.github.io/user_guide/interactions.html for more cool examples of selections and interactions"
   ]
  },
  {
   "cell_type": "markdown",
   "metadata": {},
   "source": [
    "# 3. Line graphs"
   ]
  },
  {
   "cell_type": "code",
   "execution_count": null,
   "metadata": {},
   "outputs": [],
   "source": [
    "# Load dataset, format dates\n",
    "flights = sns.load_dataset('flights')\n",
    "flights['date'] = pd.to_datetime(flights['year'].astype(str) + flights['month'].astype(str), format='%Y%b')\n",
    "flights.head()"
   ]
  },
  {
   "cell_type": "markdown",
   "metadata": {},
   "source": [
    "## Matplotlib line graphs"
   ]
  },
  {
   "cell_type": "code",
   "execution_count": null,
   "metadata": {},
   "outputs": [],
   "source": [
    "# Matplotlib simple example\n",
    "plt.plot(flights['date'], flights['passengers'])"
   ]
  },
  {
   "cell_type": "markdown",
   "metadata": {},
   "source": [
    "## Seaborn line graphs"
   ]
  },
  {
   "cell_type": "code",
   "execution_count": null,
   "metadata": {},
   "outputs": [],
   "source": [
    "# Seaborn simple example\n",
    "sns.lineplot(x=flights['date'], y=flights['passengers'])"
   ]
  },
  {
   "cell_type": "markdown",
   "metadata": {},
   "source": [
    "## Bokeh line graphs"
   ]
  },
  {
   "cell_type": "code",
   "execution_count": null,
   "metadata": {},
   "outputs": [],
   "source": [
    "# Bokeh simple example\n",
    "p = figure(plot_width=400, plot_height=300)#, x_axis_type='datetime')\n",
    "p.line(x='date', y='passengers', source=flights, line_width=2)\n",
    "show(p)"
   ]
  },
  {
   "cell_type": "markdown",
   "metadata": {},
   "source": [
    "## Altair line graphs"
   ]
  },
  {
   "cell_type": "code",
   "execution_count": null,
   "metadata": {},
   "outputs": [],
   "source": [
    "# Altair simple example\n",
    "alt.Chart(flights).mark_line().encode(\n",
    "    x='date',\n",
    "    y='passengers'\n",
    ")"
   ]
  },
  {
   "cell_type": "markdown",
   "metadata": {},
   "source": [
    "## Extra Bokeh coolness - more advanced stuff"
   ]
  },
  {
   "cell_type": "code",
   "execution_count": null,
   "metadata": {},
   "outputs": [],
   "source": [
    "msft = pd.read_csv('../data/msft.csv')\n",
    "\n",
    "# This is for demonstration purposes to make the visualization method easier to understand\n",
    "msft['High'] = msft['High'] * 2 \n",
    "\n",
    "msft.head()"
   ]
  },
  {
   "cell_type": "code",
   "execution_count": null,
   "metadata": {},
   "outputs": [],
   "source": [
    "plot = figure(plot_width=300, plot_height=300, x_axis_type='datetime')\n",
    "plot.varea(x='index', y1='High', y2='Low', source=msft)\n",
    "           #fill_color=\"#99D594\")\n",
    "show(plot)"
   ]
  },
  {
   "cell_type": "markdown",
   "metadata": {},
   "source": [
    "# 4. Bar charts"
   ]
  },
  {
   "cell_type": "code",
   "execution_count": null,
   "metadata": {},
   "outputs": [],
   "source": [
    "# Load dataset\n",
    "titanic = sns.load_dataset('titanic')\n",
    "class_count = titanic.groupby('class').count().reset_index()\n",
    "titanic.head()"
   ]
  },
  {
   "cell_type": "markdown",
   "metadata": {},
   "source": [
    "## Matplotlib bar charts"
   ]
  },
  {
   "cell_type": "code",
   "execution_count": null,
   "metadata": {},
   "outputs": [],
   "source": [
    "# Matplotlib simple example\n",
    "plt.bar(class_count['class'], class_count['survived'])\n",
    "plt.show()"
   ]
  },
  {
   "cell_type": "markdown",
   "metadata": {},
   "source": [
    "## Seaborn bar charts"
   ]
  },
  {
   "cell_type": "code",
   "execution_count": null,
   "metadata": {},
   "outputs": [],
   "source": [
    "# Seaborn simple example\n",
    "sns.barplot(x=class_count['class'], y=class_count['survived'])"
   ]
  },
  {
   "cell_type": "code",
   "execution_count": null,
   "metadata": {},
   "outputs": [],
   "source": [
    "# Seaborn - multiple categories at once\n",
    "class_sex_count = titanic.groupby(['sex', 'class']).count().reset_index()\n",
    "sns.barplot(x=\"class\", y=\"survived\", hue=\"sex\", data=class_sex_count)"
   ]
  },
  {
   "cell_type": "markdown",
   "metadata": {},
   "source": [
    "## Bokeh bar charts"
   ]
  },
  {
   "cell_type": "code",
   "execution_count": null,
   "metadata": {},
   "outputs": [],
   "source": [
    "# Bokeh simple example\n",
    "p = figure(x_range=np.array(class_count['class']), plot_width=400, plot_height=300)\n",
    "p.vbar(x=np.array(class_count['class']), top=class_count['survived'], width=0.9)\n",
    "show(p)"
   ]
  },
  {
   "cell_type": "markdown",
   "metadata": {},
   "source": [
    "## Altair bar charts"
   ]
  },
  {
   "cell_type": "code",
   "execution_count": null,
   "metadata": {},
   "outputs": [],
   "source": [
    "# Altair simple example\n",
    "alt.Chart(class_count).mark_bar().encode(\n",
    "    x='class',\n",
    "    y='survived'\n",
    ")"
   ]
  },
  {
   "cell_type": "markdown",
   "metadata": {},
   "source": [
    "# 5. Histograms"
   ]
  },
  {
   "cell_type": "markdown",
   "metadata": {},
   "source": [
    "## Matplotlib histograms"
   ]
  },
  {
   "cell_type": "code",
   "execution_count": null,
   "metadata": {},
   "outputs": [],
   "source": [
    "plt.hist(titanic['age'], bins=range(0,80,5))\n",
    "plt.show()"
   ]
  },
  {
   "cell_type": "markdown",
   "metadata": {},
   "source": [
    "## Seaborn histograms"
   ]
  },
  {
   "cell_type": "code",
   "execution_count": null,
   "metadata": {},
   "outputs": [],
   "source": [
    "sns.histplot(titanic['age'], bins=range(0,80,5))"
   ]
  },
  {
   "cell_type": "markdown",
   "metadata": {},
   "source": [
    "## Bokeh histograms"
   ]
  },
  {
   "cell_type": "code",
   "execution_count": null,
   "metadata": {},
   "outputs": [],
   "source": [
    "# Bokeh removed histograms in recent versions? Annoying to do heatmaps now!"
   ]
  },
  {
   "cell_type": "markdown",
   "metadata": {},
   "source": [
    "## Altair histograms"
   ]
  },
  {
   "cell_type": "code",
   "execution_count": null,
   "metadata": {
    "scrolled": true
   },
   "outputs": [],
   "source": [
    "# Altair simple example\n",
    "alt.Chart(titanic).mark_bar().encode(\n",
    "    alt.X(\"age\", bin=alt.Bin(step=5)),\n",
    "    y='count()',\n",
    ")"
   ]
  },
  {
   "cell_type": "markdown",
   "metadata": {},
   "source": [
    "# 6. Box plots"
   ]
  },
  {
   "cell_type": "markdown",
   "metadata": {},
   "source": [
    "## Seaborn boxplots"
   ]
  },
  {
   "cell_type": "code",
   "execution_count": null,
   "metadata": {},
   "outputs": [],
   "source": [
    "sns.boxplot(x=titanic['age'])"
   ]
  },
  {
   "cell_type": "markdown",
   "metadata": {},
   "source": [
    "## Altair boxplots"
   ]
  },
  {
   "cell_type": "code",
   "execution_count": null,
   "metadata": {},
   "outputs": [],
   "source": [
    "alt.Chart(titanic).mark_boxplot().encode(\n",
    "    y='age:Q'\n",
    ")"
   ]
  },
  {
   "cell_type": "markdown",
   "metadata": {},
   "source": [
    "# 7. Heatmaps"
   ]
  },
  {
   "cell_type": "markdown",
   "metadata": {},
   "source": [
    "## Seaborn heatmaps"
   ]
  },
  {
   "cell_type": "code",
   "execution_count": null,
   "metadata": {},
   "outputs": [],
   "source": [
    "flights_pivot = flights.pivot(\"month\", \"year\", \"passengers\")\n"
   ]
  },
  {
   "cell_type": "code",
   "execution_count": null,
   "metadata": {},
   "outputs": [],
   "source": [
    "sns.heatmap(flights_pivot)#, annot=True, fmt=\"d\",)"
   ]
  },
  {
   "cell_type": "markdown",
   "metadata": {},
   "source": [
    "## Bokeh heatmaps"
   ]
  },
  {
   "cell_type": "code",
   "execution_count": null,
   "metadata": {},
   "outputs": [],
   "source": [
    "# Bokeh removed heatmaps in recent versions? Annoying to do heatmaps now!"
   ]
  },
  {
   "cell_type": "markdown",
   "metadata": {},
   "source": [
    "## Altair heatmaps"
   ]
  },
  {
   "cell_type": "code",
   "execution_count": null,
   "metadata": {},
   "outputs": [],
   "source": [
    "flights['date'] = pd.to_datetime(flights['year'].astype(str) + flights['month'].astype(str), format='%Y%b')"
   ]
  },
  {
   "cell_type": "code",
   "execution_count": null,
   "metadata": {},
   "outputs": [],
   "source": [
    "alt.Chart(flights).mark_rect().encode(\n",
    "    x=alt.X('date:O', timeUnit='year'),\n",
    "    y=alt.Y('date:O', timeUnit='month'),\n",
    "    color='passengers:Q'\n",
    ")"
   ]
  },
  {
   "cell_type": "markdown",
   "metadata": {},
   "source": [
    "# 8. Maps with Altair"
   ]
  },
  {
   "cell_type": "code",
   "execution_count": null,
   "metadata": {},
   "outputs": [],
   "source": [
    "state_locs = pd.read_csv('../data/statelatlong.csv')\n",
    "covid = pd.read_csv('../data/all-states-history.csv')\n",
    "dtype = {'state': str}\n",
    "covid_lat_lon = covid.astype(dtype).merge(state_locs.astype(dtype), 'left')\n",
    "covid_lat_lon.head()"
   ]
  },
  {
   "cell_type": "code",
   "execution_count": null,
   "metadata": {},
   "outputs": [],
   "source": [
    "# Deal with dataframe with more than 5000 rows\n",
    "#alt.data_transformers.enable('default', max_rows=None)\n",
    "alt.data_transformers.enable('json')"
   ]
  },
  {
   "cell_type": "code",
   "execution_count": null,
   "metadata": {},
   "outputs": [],
   "source": [
    "\n",
    "states = alt.topo_feature(data.us_10m.url, feature='states')\n",
    "\n",
    "# US states background\n",
    "background = alt.Chart(states).mark_geoshape(\n",
    "    fill='lightgray',\n",
    "    stroke='white'\n",
    ").properties(\n",
    "    width=500,\n",
    "    height=300\n",
    ").project('albersUsa')\n",
    "\n",
    "# Show the map\n",
    "background"
   ]
  },
  {
   "cell_type": "code",
   "execution_count": null,
   "metadata": {},
   "outputs": [],
   "source": [
    "\n",
    "def timestamp(t):\n",
    "  return pd.to_datetime(t).timestamp() * 1000\n",
    "\n",
    "slider = alt.binding_range(\n",
    "    step=30 * 24 * 60 * 60 * 1000, # 30 days in milliseconds\n",
    "    min=timestamp(min(covid_lat_lon['date'])),\n",
    "    max=timestamp(max(covid_lat_lon['date'])))\n",
    "\n",
    "select_date = alt.selection_single(\n",
    "    fields=['date'],\n",
    "    bind=slider,\n",
    "    init={'date': 1584835200000},\n",
    "    name='slider')\n",
    "\n",
    "deaths = alt.Chart(covid_lat_lon).mark_circle().encode(\n",
    "    longitude='longitude:Q',\n",
    "    latitude='latitude:Q',\n",
    "    size='sum(deathIncrease)',\n",
    "    tooltip=['state','sum(deathIncrease):Q']\n",
    ").add_selection(select_date).transform_filter(\n",
    "    \"(year(datum.date) == year(slider.date[0])) && \"\n",
    "    \"(month(datum.date) == month(slider.date[0]))\"\n",
    ")"
   ]
  },
  {
   "cell_type": "code",
   "execution_count": null,
   "metadata": {},
   "outputs": [],
   "source": [
    "background + deaths"
   ]
  },
  {
   "cell_type": "code",
   "execution_count": null,
   "metadata": {},
   "outputs": [],
   "source": []
  }
 ],
 "metadata": {
  "kernelspec": {
   "display_name": "Python Viz",
   "language": "python",
   "name": "python_viz"
  },
  "language_info": {
   "codemirror_mode": {
    "name": "ipython",
    "version": 3
   },
   "file_extension": ".py",
   "mimetype": "text/x-python",
   "name": "python",
   "nbconvert_exporter": "python",
   "pygments_lexer": "ipython3",
   "version": "3.7.9"
  }
 },
 "nbformat": 4,
 "nbformat_minor": 2
}
